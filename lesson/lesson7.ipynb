{
 "cells": [
  {
   "cell_type": "markdown",
   "id": "cb8cc2bf-0036-4610-8c20-1fbc54e86161",
   "metadata": {},
   "source": [
    "### lesson 7\n",
    "OpenCVを使用した色抽出と画像上の座標の計算"
   ]
  },
  {
   "cell_type": "code",
   "execution_count": null,
   "id": "acd8654c-1e83-41ed-b4be-510b8302baf5",
   "metadata": {},
   "outputs": [],
   "source": [
    "import cv2\n",
    "import kachaka_api\n",
    "import numpy as np\n",
    "from IPython.display import Image, clear_output, display\n",
    "\n",
    "client = kachaka_api.aio.KachakaApiClient()\n",
    "\n",
    "async for image in client.front_camera_ros_compressed_image.stream():\n",
    "    cv_image = cv2.imdecode(np.frombuffer(image.data, dtype=np.uint8), flags=1)\n",
    "    lower_red = np.array([0, 0, 100])\n",
    "    upper_red = np.array([100, 100, 255])\n",
    "\n",
    "    mask = cv2.inRange(cv_image, lower_red, upper_red)\n",
    "    red_objects = cv2.bitwise_and(cv_image, cv_image, mask=mask)\n",
    "\n",
    "    _, ret = cv2.imencode(\".jpg\",\n",
    "        cv2.resize(red_objects, (int(cv_image.shape[1] / 2), int(cv_image.shape[0] / 2))),\n",
    "    )\n",
    "    clear_output(wait=True)\n",
    "    display(Image(data=ret, format=\"jpeg\"))"
   ]
  },
  {
   "cell_type": "code",
   "execution_count": null,
   "id": "b9d2e126-9639-4e81-b0f7-dffe3a1adaaa",
   "metadata": {},
   "outputs": [],
   "source": []
  }
 ],
 "metadata": {
  "kernelspec": {
   "display_name": "Python 3 (ipykernel)",
   "language": "python",
   "name": "python3"
  },
  "language_info": {
   "codemirror_mode": {
    "name": "ipython",
    "version": 3
   },
   "file_extension": ".py",
   "mimetype": "text/x-python",
   "name": "python",
   "nbconvert_exporter": "python",
   "pygments_lexer": "ipython3",
   "version": "3.10.12"
  }
 },
 "nbformat": 4,
 "nbformat_minor": 5
}
