{
 "cells": [
  {
   "cell_type": "markdown",
   "id": "0b41fbc0-193b-4b85-a4a6-df63b9c32bdc",
   "metadata": {},
   "source": [
    "### lessson 10  \n",
    "検出した物体の追跡"
   ]
  },
  {
   "cell_type": "code",
   "execution_count": null,
   "id": "90b218f1-3fb7-4878-9cf5-5148e8afb2ad",
   "metadata": {},
   "outputs": [],
   "source": []
  }
 ],
 "metadata": {
  "kernelspec": {
   "display_name": "Python 3 (ipykernel)",
   "language": "python",
   "name": "python3"
  },
  "language_info": {
   "codemirror_mode": {
    "name": "ipython",
    "version": 3
   },
   "file_extension": ".py",
   "mimetype": "text/x-python",
   "name": "python",
   "nbconvert_exporter": "python",
   "pygments_lexer": "ipython3",
   "version": "3.10.12"
  }
 },
 "nbformat": 4,
 "nbformat_minor": 5
}
