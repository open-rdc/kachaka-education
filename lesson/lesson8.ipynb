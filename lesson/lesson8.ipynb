{
 "cells": [
  {
   "cell_type": "markdown",
   "id": "1dc9a71a-cde4-45a4-9440-847c892704ae",
   "metadata": {},
   "source": [
    "### lesson 8  \n",
    "特定の色の物体の追跡  "
   ]
  },
  {
   "cell_type": "code",
   "execution_count": null,
   "id": "15538156-c40e-4b2c-8a5a-475b1506d9f0",
   "metadata": {},
   "outputs": [],
   "source": []
  }
 ],
 "metadata": {
  "kernelspec": {
   "display_name": "Python 3 (ipykernel)",
   "language": "python",
   "name": "python3"
  },
  "language_info": {
   "codemirror_mode": {
    "name": "ipython",
    "version": 3
   },
   "file_extension": ".py",
   "mimetype": "text/x-python",
   "name": "python",
   "nbconvert_exporter": "python",
   "pygments_lexer": "ipython3",
   "version": "3.10.12"
  }
 },
 "nbformat": 4,
 "nbformat_minor": 5
}
