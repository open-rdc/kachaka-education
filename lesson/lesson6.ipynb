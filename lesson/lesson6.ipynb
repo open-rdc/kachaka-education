{
 "cells": [
  {
   "cell_type": "markdown",
   "id": "5238f0ac-1849-46cb-a933-860006bc6ddd",
   "metadata": {},
   "source": [
    "### lesson 6\n",
    "画像の取得\n",
    "※以下，サンプルプログラムほぼそのまま"
   ]
  },
  {
   "cell_type": "code",
   "execution_count": null,
   "id": "666eae7e-e585-43db-b1aa-faed10d3b7c7",
   "metadata": {},
   "outputs": [],
   "source": [
    "import kachaka_api\n",
    "from IPython.display import Image, clear_output, display\n",
    "\n",
    "client = kachaka_api.aio.KachakaApiClient()\n",
    "\n",
    "async for image in client.front_camera_ros_compressed_image.stream():\n",
    "    clear_output(wait=True)\n",
    "    display(Image(data=image.data, format=\"jpeg\"))"
   ]
  },
  {
   "cell_type": "code",
   "execution_count": null,
   "id": "06ea0c00-cc87-4e9f-a1ee-8b9c89fe5a96",
   "metadata": {},
   "outputs": [],
   "source": [
    "画像の保存"
   ]
  }
 ],
 "metadata": {
  "kernelspec": {
   "display_name": "Python 3 (ipykernel)",
   "language": "python",
   "name": "python3"
  },
  "language_info": {
   "codemirror_mode": {
    "name": "ipython",
    "version": 3
   },
   "file_extension": ".py",
   "mimetype": "text/x-python",
   "name": "python",
   "nbconvert_exporter": "python",
   "pygments_lexer": "ipython3",
   "version": "3.10.12"
  }
 },
 "nbformat": 4,
 "nbformat_minor": 5
}
