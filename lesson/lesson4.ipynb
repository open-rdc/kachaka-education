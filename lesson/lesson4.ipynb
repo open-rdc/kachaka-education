{
 "cells": [
  {
   "cell_type": "markdown",
   "id": "a40f360d-25b1-443f-8613-b13d8eef76b8",
   "metadata": {},
   "source": [
    "### lesson4  \n",
    "LiDARを使用して障害物を回避して移動  "
   ]
  },
  {
   "cell_type": "code",
   "execution_count": null,
   "id": "3b11df7a-7203-45f2-9c95-d233be35e1aa",
   "metadata": {},
   "outputs": [],
   "source": []
  }
 ],
 "metadata": {
  "kernelspec": {
   "display_name": "Python 3 (ipykernel)",
   "language": "python",
   "name": "python3"
  },
  "language_info": {
   "codemirror_mode": {
    "name": "ipython",
    "version": 3
   },
   "file_extension": ".py",
   "mimetype": "text/x-python",
   "name": "python",
   "nbconvert_exporter": "python",
   "pygments_lexer": "ipython3",
   "version": "3.10.12"
  }
 },
 "nbformat": 4,
 "nbformat_minor": 5
}
