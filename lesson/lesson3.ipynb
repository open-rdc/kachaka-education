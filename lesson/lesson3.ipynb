{
 "cells": [
  {
   "cell_type": "markdown",
   "id": "4f500e4d-041a-446b-8af9-67c937952f52",
   "metadata": {},
   "source": [
    "### lesson 3  \n",
    "LiDARの動作確認をしましょう．  \n",
    "【TODO】連続的な表示の方法が分からない．"
   ]
  },
  {
   "cell_type": "code",
   "execution_count": null,
   "id": "979cdced-5edb-46b4-a1b8-7b2bbd5557a9",
   "metadata": {},
   "outputs": [],
   "source": [
    "import math\n",
    "import matplotlib.pyplot as plt\n",
    "from IPython.display import display, clear_output\n",
    "import kachaka_api\n",
    "\n",
    "client = kachaka_api.aio.KachakaApiClient()\n",
    "\n",
    "while True:\n",
    "    async for scan in client.ros_laser_scan.stream():\n",
    "        clear_output(wait=True)\n",
    "        fig, ax = plt.subplots(figsize=(5, 5))\n",
    "    \n",
    "        n = len(scan.ranges)\n",
    "        x, y = [0]*n, [0]*n\n",
    "        for i in range(n):\n",
    "            theta = scan.angle_min + scan.angle_increment * i\n",
    "            x[i] = scan.ranges[i] * math.cos(theta)\n",
    "            y[i] = scan.ranges[i] * math.sin(theta)\n",
    "    \n",
    "        plt.plot(0, 0, \"o\", color=\"black\")\n",
    "        plt.plot(x, y, \".\")\n",
    "        plt.xlim(-6.0, 6.0)\n",
    "        plt.ylim(-6.0, 6.0)\n",
    "        plt.grid(True)\n",
    "        ax.set_aspect(\"equal\", adjustable=\"box\")\n",
    "        display(fig)\n",
    "        plt.close(fig)"
   ]
  },
  {
   "cell_type": "code",
   "execution_count": null,
   "id": "a8775133-85d9-4dd7-86f6-0a3812234be6",
   "metadata": {},
   "outputs": [],
   "source": []
  }
 ],
 "metadata": {
  "kernelspec": {
   "display_name": "Python 3 (ipykernel)",
   "language": "python",
   "name": "python3"
  },
  "language_info": {
   "codemirror_mode": {
    "name": "ipython",
    "version": 3
   },
   "file_extension": ".py",
   "mimetype": "text/x-python",
   "name": "python",
   "nbconvert_exporter": "python",
   "pygments_lexer": "ipython3",
   "version": "3.10.12"
  }
 },
 "nbformat": 4,
 "nbformat_minor": 5
}
