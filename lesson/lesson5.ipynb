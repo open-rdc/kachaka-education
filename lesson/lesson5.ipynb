{
 "cells": [
  {
   "cell_type": "markdown",
   "id": "823467ab-2dcc-44d7-be96-83ba6cdec1b2",
   "metadata": {},
   "source": [
    "### lesson5  \n",
    "LiDARを使用して障害物を回避して目的地に移動  "
   ]
  }
 ],
 "metadata": {
  "kernelspec": {
   "display_name": "Python 3 (ipykernel)",
   "language": "python",
   "name": "python3"
  },
  "language_info": {
   "codemirror_mode": {
    "name": "ipython",
    "version": 3
   },
   "file_extension": ".py",
   "mimetype": "text/x-python",
   "name": "python",
   "nbconvert_exporter": "python",
   "pygments_lexer": "ipython3",
   "version": "3.10.12"
  }
 },
 "nbformat": 4,
 "nbformat_minor": 5
}
