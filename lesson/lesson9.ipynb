{
 "cells": [
  {
   "cell_type": "markdown",
   "id": "728abe34-9947-43f6-9319-4f6688d8e18b",
   "metadata": {},
   "source": [
    "### lesson 9  \n",
    "深層学習を用いた物体認識"
   ]
  },
  {
   "cell_type": "code",
   "execution_count": null,
   "id": "8a38c98d-5082-4d23-be6d-c0c6da7e1e86",
   "metadata": {},
   "outputs": [],
   "source": []
  }
 ],
 "metadata": {
  "kernelspec": {
   "display_name": "Python 3 (ipykernel)",
   "language": "python",
   "name": "python3"
  },
  "language_info": {
   "codemirror_mode": {
    "name": "ipython",
    "version": 3
   },
   "file_extension": ".py",
   "mimetype": "text/x-python",
   "name": "python",
   "nbconvert_exporter": "python",
   "pygments_lexer": "ipython3",
   "version": "3.10.12"
  }
 },
 "nbformat": 4,
 "nbformat_minor": 5
}
