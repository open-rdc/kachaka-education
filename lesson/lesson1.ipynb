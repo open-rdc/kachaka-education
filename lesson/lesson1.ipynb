{
 "cells": [
  {
   "cell_type": "markdown",
   "id": "7eaf0098-79af-4e1d-9264-d83668f0e081",
   "metadata": {},
   "source": [
    "### lesson 1  \n",
    "まずはロボットを前後・旋回させてみましょう．  "
   ]
  },
  {
   "cell_type": "code",
   "execution_count": 7,
   "id": "821edaae-e6ec-4ed6-94dd-c189fc8b2465",
   "metadata": {},
   "outputs": [
    {
     "data": {
      "text/plain": [
       "success: true"
      ]
     },
     "execution_count": 7,
     "metadata": {},
     "output_type": "execute_result"
    }
   ],
   "source": [
    "import kachaka_api\n",
    "\n",
    "client = kachaka_api.KachakaApiClient()\n",
    "client.set_robot_velocity(linear=0.0, angular=-0.3)"
   ]
  },
  {
   "cell_type": "markdown",
   "id": "629b3c73-2ecf-40de-878f-2f51c7a4a604",
   "metadata": {},
   "source": [
    "タイヤの回転数から現在の位置を計算するオドメトリを確認しよう"
   ]
  },
  {
   "cell_type": "code",
   "execution_count": null,
   "id": "d7ce65d2-2aaa-4284-ad9e-274368745107",
   "metadata": {},
   "outputs": [],
   "source": []
  }
 ],
 "metadata": {
  "kernelspec": {
   "display_name": "Python 3 (ipykernel)",
   "language": "python",
   "name": "python3"
  },
  "language_info": {
   "codemirror_mode": {
    "name": "ipython",
    "version": 3
   },
   "file_extension": ".py",
   "mimetype": "text/x-python",
   "name": "python",
   "nbconvert_exporter": "python",
   "pygments_lexer": "ipython3",
   "version": "3.10.12"
  }
 },
 "nbformat": 4,
 "nbformat_minor": 5
}
