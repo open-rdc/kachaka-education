{
 "cells": [
  {
   "cell_type": "markdown",
   "id": "8ca9ba95-cf26-477f-91a5-abd7e68e30b5",
   "metadata": {},
   "source": [
    "### lesson 2  \n",
    "IMU(Inertial Measurement Unit, 慣性計測装置)の値を確認しよう．  \n",
    "ロボットでは方向を知るためにIMUがよく使用されます．  \n",
    "IMUの特徴を理解して使いこなせるようにしよう．  \n",
    "なお，以下のサンプルはエラー処理などをしていませんので，停止したときにエラーが出力されます．  \n",
    "【TODO】ジャイロは搭載されていない？"
   ]
  },
  {
   "cell_type": "code",
   "execution_count": null,
   "id": "0a981c2a-42c3-4ff7-94ca-83a35d9c7d15",
   "metadata": {},
   "outputs": [],
   "source": [
    "from IPython.display import clear_output\n",
    "import time\n",
    "import kachaka_api\n",
    "\n",
    "client = kachaka_api.aio.KachakaApiClient()\n",
    "while True:\n",
    "    clear_output(wait=True)\n",
    "    imu = await client.get_ros_imu()\n",
    "    print(imu.linear_acceleration)\n",
    "    time.sleep(0.1)"
   ]
  },
  {
   "cell_type": "code",
   "execution_count": null,
   "id": "64f56bab-ef13-4cb9-be4c-61ea14880502",
   "metadata": {},
   "outputs": [],
   "source": []
  }
 ],
 "metadata": {
  "kernelspec": {
   "display_name": "Python 3 (ipykernel)",
   "language": "python",
   "name": "python3"
  },
  "language_info": {
   "codemirror_mode": {
    "name": "ipython",
    "version": 3
   },
   "file_extension": ".py",
   "mimetype": "text/x-python",
   "name": "python",
   "nbconvert_exporter": "python",
   "pygments_lexer": "ipython3",
   "version": "3.10.12"
  }
 },
 "nbformat": 4,
 "nbformat_minor": 5
}
