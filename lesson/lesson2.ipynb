{
 "cells": [
  {
   "cell_type": "markdown",
   "id": "8ca9ba95-cf26-477f-91a5-abd7e68e30b5",
   "metadata": {},
   "source": [
    "### lesson 2  \n",
    "IMU(Inertial Measurement Unit, 慣性計測装置)の値を確認しよう．  \n",
    "ロボットでは方向を知るためにIMUがよく使用されます．  \n",
    "IMUの特徴を理解して使いこなせるようにしよう．  \n",
    "なお，以下のサンプルはエラー処理などをしていませんので，停止したときにエラーが出力されます．  \n",
    "【TODO】ジャイロは搭載されていない？"
   ]
  },
  {
   "cell_type": "code",
   "execution_count": 14,
   "id": "0a981c2a-42c3-4ff7-94ca-83a35d9c7d15",
   "metadata": {},
   "outputs": [
    {
     "ename": "CancelledError",
     "evalue": "",
     "output_type": "error",
     "traceback": [
      "\u001b[0;31m---------------------------------------------------------------------------\u001b[0m",
      "\u001b[0;31mCancelledError\u001b[0m                            Traceback (most recent call last)",
      "Cell \u001b[0;32mIn[14], line 8\u001b[0m\n\u001b[1;32m      6\u001b[0m \u001b[38;5;28;01mwhile\u001b[39;00m \u001b[38;5;28;01mTrue\u001b[39;00m:\n\u001b[1;32m      7\u001b[0m     clear_output(wait\u001b[38;5;241m=\u001b[39m\u001b[38;5;28;01mTrue\u001b[39;00m)\n\u001b[0;32m----> 8\u001b[0m     imu \u001b[38;5;241m=\u001b[39m \u001b[38;5;28;01mawait\u001b[39;00m client\u001b[38;5;241m.\u001b[39mget_ros_imu()\n\u001b[1;32m      9\u001b[0m     \u001b[38;5;28mprint\u001b[39m(imu\u001b[38;5;241m.\u001b[39mlinear_acceleration)\n\u001b[1;32m     10\u001b[0m     time\u001b[38;5;241m.\u001b[39msleep(\u001b[38;5;241m0.1\u001b[39m)\n",
      "File \u001b[0;32m~/baku-kachaka-api/python/kachaka_api/aio/base.py:77\u001b[0m, in \u001b[0;36mKachakaApiClientBase.get_ros_imu\u001b[0;34m(self)\u001b[0m\n\u001b[1;32m     75\u001b[0m \u001b[38;5;28;01masync\u001b[39;00m \u001b[38;5;28;01mdef\u001b[39;00m \u001b[38;5;21mget_ros_imu\u001b[39m(\u001b[38;5;28mself\u001b[39m) \u001b[38;5;241m-\u001b[39m\u001b[38;5;241m>\u001b[39m pb2\u001b[38;5;241m.\u001b[39mRosImu:\n\u001b[1;32m     76\u001b[0m     request \u001b[38;5;241m=\u001b[39m pb2\u001b[38;5;241m.\u001b[39mGetRequest()\n\u001b[0;32m---> 77\u001b[0m     response: pb2\u001b[38;5;241m.\u001b[39mGetRosImuResponse \u001b[38;5;241m=\u001b[39m \u001b[38;5;28;01mawait\u001b[39;00m \u001b[38;5;28mself\u001b[39m\u001b[38;5;241m.\u001b[39mstub\u001b[38;5;241m.\u001b[39mGetRosImu(request)\n\u001b[1;32m     78\u001b[0m     \u001b[38;5;28;01mreturn\u001b[39;00m response\u001b[38;5;241m.\u001b[39mimu\n",
      "File \u001b[0;32m~/.local/lib/python3.10/site-packages/grpc/aio/_call.py:271\u001b[0m, in \u001b[0;36m_UnaryResponseMixin.__await__\u001b[0;34m(self)\u001b[0m\n\u001b[1;32m    269\u001b[0m \u001b[38;5;250m\u001b[39m\u001b[38;5;124;03m\"\"\"Wait till the ongoing RPC request finishes.\"\"\"\u001b[39;00m\n\u001b[1;32m    270\u001b[0m \u001b[38;5;28;01mtry\u001b[39;00m:\n\u001b[0;32m--> 271\u001b[0m     response \u001b[38;5;241m=\u001b[39m \u001b[38;5;28;01myield from\u001b[39;00m \u001b[38;5;28mself\u001b[39m\u001b[38;5;241m.\u001b[39m_call_response\n\u001b[1;32m    272\u001b[0m \u001b[38;5;28;01mexcept\u001b[39;00m asyncio\u001b[38;5;241m.\u001b[39mCancelledError:\n\u001b[1;32m    273\u001b[0m     \u001b[38;5;66;03m# Even if we caught all other CancelledError, there is still\u001b[39;00m\n\u001b[1;32m    274\u001b[0m     \u001b[38;5;66;03m# this corner case. If the application cancels immediately after\u001b[39;00m\n\u001b[1;32m    275\u001b[0m     \u001b[38;5;66;03m# the Call object is created, we will observe this\u001b[39;00m\n\u001b[1;32m    276\u001b[0m     \u001b[38;5;66;03m# `CancelledError`.\u001b[39;00m\n\u001b[1;32m    277\u001b[0m     \u001b[38;5;28;01mif\u001b[39;00m \u001b[38;5;129;01mnot\u001b[39;00m \u001b[38;5;28mself\u001b[39m\u001b[38;5;241m.\u001b[39mcancelled():\n",
      "\u001b[0;31mCancelledError\u001b[0m: "
     ]
    }
   ],
   "source": [
    "from IPython.display import clear_output\n",
    "import time\n",
    "import kachaka_api\n",
    "\n",
    "client = kachaka_api.aio.KachakaApiClient()\n",
    "while True:\n",
    "    clear_output(wait=True)\n",
    "    imu = await client.get_ros_imu()\n",
    "    print(imu.linear_acceleration)\n",
    "    time.sleep(0.1)"
   ]
  },
  {
   "cell_type": "code",
   "execution_count": null,
   "id": "64f56bab-ef13-4cb9-be4c-61ea14880502",
   "metadata": {},
   "outputs": [],
   "source": []
  }
 ],
 "metadata": {
  "kernelspec": {
   "display_name": "Python 3 (ipykernel)",
   "language": "python",
   "name": "python3"
  },
  "language_info": {
   "codemirror_mode": {
    "name": "ipython",
    "version": 3
   },
   "file_extension": ".py",
   "mimetype": "text/x-python",
   "name": "python",
   "nbconvert_exporter": "python",
   "pygments_lexer": "ipython3",
   "version": "3.10.12"
  }
 },
 "nbformat": 4,
 "nbformat_minor": 5
}
